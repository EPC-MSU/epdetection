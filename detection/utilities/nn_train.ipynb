{
  "cells": [
    {
      "cell_type": "code",
      "execution_count": 1,
      "id": "24ee26c6",
      "metadata": {
        "colab": {
          "base_uri": "https://localhost:8080/"
        },
        "id": "24ee26c6",
        "outputId": "89d6be8a-a780-48f7-f68e-5c771d7ccb8b"
      },
      "outputs": [
        {
          "output_type": "stream",
          "name": "stdout",
          "text": [
            "Mounted at /content/gdrive\n",
            "Load dataset from Google Drive done!\n",
            "rm: cannot remove 'model.py': No such file or directory\n",
            "--2022-07-29 11:40:08--  https://raw.githubusercontent.com/EPC-MSU/epdetection/dev-1.5/detection/utilities/model.py\n",
            "Resolving raw.githubusercontent.com (raw.githubusercontent.com)... 185.199.108.133, 185.199.109.133, 185.199.110.133, ...\n",
            "Connecting to raw.githubusercontent.com (raw.githubusercontent.com)|185.199.108.133|:443... connected.\n",
            "HTTP request sent, awaiting response... 200 OK\n",
            "Length: 1637 (1.6K) [text/plain]\n",
            "Saving to: ‘model.py’\n",
            "\n",
            "model.py            100%[===================>]   1.60K  --.-KB/s    in 0s      \n",
            "\n",
            "2022-07-29 11:40:08 (22.0 MB/s) - ‘model.py’ saved [1637/1637]\n",
            "\n",
            "Load dataset from Google Drive done!\n",
            "Using device: cuda\n"
          ]
        }
      ],
      "source": [
        "from torch.utils.data import DataLoader\n",
        "from torch.utils.data import Dataset\n",
        "import torchvision\n",
        "from torchvision import transforms\n",
        "from torchvision.datasets.vision import VisionDataset\n",
        "from torchvision.transforms import ToTensor,Resize, Grayscale, Normalize\n",
        "import matplotlib.pyplot as plt\n",
        "import zipfile\n",
        "import numpy as np\n",
        "import matplotlib.pyplot as plt\n",
        "import torch.nn as nn\n",
        "import torch.nn.functional as F\n",
        "import torch.optim as optim\n",
        "import os\n",
        "import pandas as pd\n",
        "from torch.utils.data import Dataset\n",
        "import glob\n",
        "import cv2\n",
        "import torch\n",
        "from tqdm import tqdm\n",
        "import matplotlib.pyplot as plt\n",
        "\n",
        "try:\n",
        "    from google.colab import drive\n",
        "    drive.mount('/content/gdrive')\n",
        "\n",
        "    import zipfile\n",
        "    import os\n",
        "    zip_file = \"/content/gdrive/MyDrive/base_v2.1.zip\"\n",
        "    z = zipfile.ZipFile(zip_file, 'r')\n",
        "    z.extractall()\n",
        "    print('Load dataset from Google Drive done!')\n",
        "except:\n",
        "    # This import also use in detect_nn.py\n",
        "    # If you want change torch model, change model.py\n",
        "    from model import CNN, transforms\n",
        "    print('CNN, transforms loaded from local model.py.')\n",
        "else:\n",
        "    !rm model.py\n",
        "    !wget https://raw.githubusercontent.com/EPC-MSU/epdetection/dev-1.5/detection/utilities/model.py\n",
        "    from model import CNN, transforms\n",
        "    print('Load dataset from Google Drive done!')\n",
        "device = torch.device('cuda' if torch.cuda.is_available() else 'cpu')\n",
        "print('Using device:', device)"
      ]
    },
    {
      "cell_type": "code",
      "execution_count": 2,
      "id": "5fe2c6cb",
      "metadata": {
        "id": "5fe2c6cb"
      },
      "outputs": [],
      "source": [
        "class PCBDataset(Dataset):\n",
        "    def __init__(self, classes_paths, transforms=None, target_transform=None):\n",
        "        #print(glob.glob(data_dir))\n",
        "        self.classes = []\n",
        "        self.classes_paths = classes_paths\n",
        "        self.images = []\n",
        "        self.transform = transforms\n",
        "        for actual_class in classes_paths:\n",
        "            if actual_class == 1:\n",
        "                print(\"\")\n",
        "            paths = classes_paths[actual_class]\n",
        "            for path in paths:\n",
        "                # print(\"Loading \" + path)\n",
        "                for top, dirs, files in os.walk(path):\n",
        "                    for i, name in enumerate(files):\n",
        "                        if not os.path.isfile(top + \"//\" + name):\n",
        "                            continue\n",
        "                        try:\n",
        "                            imag = cv2.imread(top + \"//\" + name)\n",
        "                        except Exception:\n",
        "                            continue\n",
        "                        self.images.append(imag)\n",
        "                        self.classes.append(actual_class)\n",
        "        self.images = np.array(self.images, dtype=object)\n",
        "        self.classes = torch.tensor(np.array(self.classes), dtype=torch.int64)\n",
        "        self.plot_disbalance()\n",
        "\n",
        "\n",
        "    def __len__(self):\n",
        "        return len(self.images)\n",
        "\n",
        "    def __getitem__(self, idx):\n",
        "        if self.transform==None:\n",
        "            return self.images[idx], self.classes[idx]\n",
        "        else:\n",
        "            return self.transform(np.array(self.images[idx]).astype(np.float32)), self.classes[idx]\n",
        "        \n",
        "    def plot_disbalance(self):\n",
        "        heights = []\n",
        "        labels = []\n",
        "        incorrect_sum = 0\n",
        "        for path in self.classes_paths[0]:\n",
        "            incorrect_sum += len(glob.glob(os.path.join(path, '*')))\n",
        "        heights.append(incorrect_sum)\n",
        "        labels.append('incorrect')\n",
        "        for i in range(1, len(self.classes_paths)-1, 1):\n",
        "            path = os.path.normpath(self.classes_paths[i][0])\n",
        "            labels.append(path.split(os.sep)[2])\n",
        "            heights.append(len(glob.glob(os.path.join(self.classes_paths[i][0], '*'))))\n",
        "        plt.bar(range(len(heights)), heights)\n",
        "        plt.ylabel('count images')\n",
        "        plt.xticks(range(len(heights)), labels, rotation='vertical')\n",
        "        plt.show()"
      ]
    },
    {
      "cell_type": "markdown",
      "source": [
        "#### Help functions"
      ],
      "metadata": {
        "id": "allKLDNNsCVr"
      },
      "id": "allKLDNNsCVr"
    },
    {
      "cell_type": "code",
      "execution_count": 3,
      "id": "f9917d3b",
      "metadata": {
        "id": "f9917d3b"
      },
      "outputs": [],
      "source": [
        "def validate(model,testloader):\n",
        "    correct = 0\n",
        "    total = 0\n",
        "    with torch.no_grad():\n",
        "        for images, labels in test_loader:\n",
        "            outputs = model(images)\n",
        "            _, predicted = torch.max(outputs.data, 1)\n",
        "            total += labels.size(0)\n",
        "            correct += (predicted == labels).sum().item()\n",
        "    return correct / total\n",
        "\n",
        "def validate_by_class(model, dataset_test):\n",
        "    acc_by_class = {}\n",
        "    with torch.no_grad():\n",
        "        model.eval()\n",
        "        for image, label in dataset_test:\n",
        "            outputs = model(image.unsqueeze(0))\n",
        "            _, predicted = torch.max(outputs.data, 1)\n",
        "            correct = (predicted.squeeze() == label).sum().item()\n",
        "            \n",
        "            if int(label) not in acc_by_class:\n",
        "                acc_by_class[int(label)] = (correct, 1)\n",
        "            if int(label) in acc_by_class:\n",
        "                correct_prev, total_prev = acc_by_class[int(label)]\n",
        "                acc_by_class[int(label)] = (correct_prev + correct, total_prev + 1)\n",
        "    for key in CLASSES_PATHS.keys():\n",
        "        path = CLASSES_PATHS[key]\n",
        "        label = os.path.normpath(path[0])\n",
        "        label = label.split(os.sep)[2]\n",
        "        try:\n",
        "            correct, total = acc_by_class[key]\n",
        "            s = (20 - len(label))*' '\n",
        "            print(label, s + f'acc: {correct}/{total}')\n",
        "        except:\n",
        "            print(label, (20 - len(label))*' ' + 'NOT FOUND')"
      ]
    },
    {
      "cell_type": "markdown",
      "source": [
        "#### Train"
      ],
      "metadata": {
        "id": "aWjnRfCmsMdr"
      },
      "id": "aWjnRfCmsMdr"
    },
    {
      "cell_type": "code",
      "execution_count": 4,
      "id": "07d67797",
      "metadata": {
        "id": "07d67797",
        "colab": {
          "base_uri": "https://localhost:8080/",
          "height": 394
        },
        "outputId": "52473b15-14f0-4e30-8e14-7032686c6017"
      },
      "outputs": [
        {
          "output_type": "stream",
          "name": "stdout",
          "text": [
            "\n"
          ]
        },
        {
          "output_type": "display_data",
          "data": {
            "text/plain": [
              "<Figure size 432x288 with 1 Axes>"
            ],
            "image/png": "[encoded data removed]"
          },
          "metadata": {
            "needs_background": "light"
          }
        }
      ],
      "source": [
        "CLASSES_PATHS = {\n",
        "    0: [\"base_v2.1//train_x1//2-SMD//incorrect\",\n",
        "        \"base_v2.1//train_x1//SMA//incorrect\",\n",
        "        \"base_v2.1//train_x1//SMB//incorrect\",\n",
        "#         \"base_v2.1//train_x1//SOD110//incorrect\",\n",
        "#             \"base_v2.1//train_x1//SOD323F//incorrect\",\n",
        "#             \"base_v2.1//train_x1//SOD523//incorrect\",\n",
        "#             \"base_v2.1//train_x1//SOT23-5//incorrect\",\n",
        "#             \"base_v2.1//train_x1//SOT23-6//incorrect\",\n",
        "#             \"base_v2.1//train_x1//SOT143//incorrect\",\n",
        "#             \"base_v2.1//train_x1//SOT323//incorrect\",\n",
        "#             \"base_v2.1//train_x1//SOT323-5//incorrect\",\n",
        "#             \"base_v2.1//train_x1//SOT343//incorrect\",\n",
        "#             \"base_v2.1//train_x1//SOT363//incorrect\",\n",
        "#             \"base_v2.1//train_x1//SOT523//incorrect\",\n",
        "#             \"base_v2.1//train_x1//SOT723//incorrect\",\n",
        "#             \"base_v2.1//train_x1//SMD0402_CL//incorrect\",\n",
        "#             \"base_v2.1//train_x1//SMD0402_R//incorrect\",\n",
        "#             \"base_v2.1//train_x1//SMD0603_CL//incorrect\",\n",
        "#             \"base_v2.1//train_x1//SMD0603_D//incorrect\",\n",
        "#             \"base_v2.1//train_x1//SMD0603_R//incorrect\",\n",
        "#             \"base_v2.1//train_x1//SMD0805_CL//incorrect\",\n",
        "#         \"base_v2.1//train_x1//SMD0805_R//incorrect\",\n",
        "        \"base_v2.1//train_x1//SMD1206_C//incorrect\",\n",
        "        \"base_v2.1//train_x1//SMD1206_R//incorrect\",\n",
        "        \"base_v2.1//train_x1//SMD1210_C//incorrect\"],\n",
        "    1: [\"base_v2.1//train_x1//SMD0402_CL//correct\"],\n",
        "    2: [\"base_v2.1//train_x1//SMD0402_R//correct\"],\n",
        "    3: [\"base_v2.1//train_x1//SMD0603_CL//correct\"],\n",
        "    4: [\"base_v2.1//train_x1//SMD0603_D//correct\"],\n",
        "    5: [\"base_v2.1//train_x1//SMD0603_R//correct\"],\n",
        "    6: [\"base_v2.1//train_x1//SMD0805_CL//correct\"],\n",
        "    7: [\"base_v2.1//train_x1//SMD0805_R//correct\"],\n",
        "    8: [\"base_v2.1//train_x1//SMD1206_C//correct\"],\n",
        "    9: [\"base_v2.1//train_x1//SMD1206_R//correct\"],\n",
        "    10: [\"base_v2.1//train_x1//SMD1210_C//correct\"],\n",
        "    11: [\"base_v2.1//train_x1//2-SMD//correct\"],\n",
        "    12: [\"base_v2.1//train_x1//SMA//correct\"],\n",
        "    13: [\"base_v2.1//train_x1//SMB//correct\"],\n",
        "    14: [\"base_v2.1//train_x1//SOD110//correct\"],\n",
        "    15: [\"base_v2.1//train_x1//SOD323F//correct\"],\n",
        "    16: [\"base_v2.1//train_x1//SOD523//correct\"],\n",
        "    17: [\"base_v2.1//train_x1//SOT23-5//correct\"],\n",
        "    18: [\"base_v2.1//train_x1//SOT23-6//correct\"],\n",
        "    19: [\"base_v2.1//train_x1//SOT143//correct\"],\n",
        "    20: [\"base_v2.1//train_x1//SOT323//correct\"],\n",
        "    21: [\"base_v2.1//train_x1//SOT323-5//correct\"],\n",
        "    22: [\"base_v2.1//train_x1//SOT343//correct\"],\n",
        "    23: [\"base_v2.1//train_x1//SOT363//correct\"],\n",
        "    24: [\"base_v2.1//train_x1//SOT523//correct\"],\n",
        "    25: [\"base_v2.1//train_x1//SOT723//correct\"],\n",
        "    26: [\"base_v2.1//train_x1//DIP-%d//correct\"],\n",
        "    27: [\"base_v2.1//train_x1//LQFP0.4-%d//correct\"],\n",
        "    28: [\"base_v2.1//train_x1//LQFP0.5-%d&TFSOP-%d//correct\"],\n",
        "    29: [\"base_v2.1//train_x1//LQFP0.8-%d//correct\"],\n",
        "    30: [\"base_v2.1//train_x1//LQFP0.65-%d&SSOP-%d//correct\"],\n",
        "    31: [\"base_v2.1//train_x1//SOIC-%d//correct\"]\n",
        "}\n",
        "\n",
        "dataset = PCBDataset(CLASSES_PATHS, transforms)"
      ]
    },
    {
      "cell_type": "code",
      "execution_count": 5,
      "id": "74eaa23d",
      "metadata": {
        "id": "74eaa23d"
      },
      "outputs": [],
      "source": [
        "def train(model, loss_function, optimizer, epochs):\n",
        "    loss_hist = []\n",
        "    test_accuracy = []\n",
        "    train_accuracy = []\n",
        "    for epoch in range(epochs):\n",
        "        ep_loss = 0\n",
        "        for images, labels in  tqdm(train_loader): # get bacth\n",
        "            optimizer.zero_grad() # sets the gradients of all optimized tensors to zero.\n",
        "            outputs = model.forward(images) # call forward inside\n",
        "            loss = loss_function(outputs, labels) # calculate loss\n",
        "            loss.backward() # calculate gradients\n",
        "            optimizer.step() # performs a single optimization step (parameter update).\n",
        "            ep_loss += loss.item()\n",
        "        loss_hist.append(ep_loss /len(train_loader))\n",
        "        print(f\"Epoch={epoch} loss={loss_hist[epoch]:.4}\")\n",
        "        test_accuracy.append(validate(model, test_loader))\n",
        "        train_accuracy.append(validate(model, train_loader))\n",
        "    return test_accuracy,train_accuracy, loss_hist"
      ]
    },
    {
      "cell_type": "code",
      "execution_count": 6,
      "id": "33d70349",
      "metadata": {
        "id": "33d70349"
      },
      "outputs": [],
      "source": [
        "dataset_train, dataset_test = torch.utils.data.random_split(dataset, [int(len(dataset) * 0.9),\n",
        "                                                                      len(dataset) - int(len(dataset) * 0.9)])\n",
        "train_loader = DataLoader(dataset_train, batch_size=32, shuffle=True)\n",
        "test_loader = DataLoader(dataset_test, batch_size=32, shuffle=False)"
      ]
    },
    {
      "cell_type": "code",
      "source": [
        "model = CNN()\n",
        "EPOCHS = 10\n",
        "optimizer = optim.Adam(model.parameters())\n",
        "criterion = nn.CrossEntropyLoss().cuda()"
      ],
      "metadata": {
        "colab": {
          "base_uri": "https://localhost:8080/"
        },
        "id": "7c-9PX_Ms4LD",
        "outputId": "6355ac0d-28a7-4f25-ca2b-e949e1dc087a"
      },
      "id": "7c-9PX_Ms4LD",
      "execution_count": 7,
      "outputs": [
        {
          "output_type": "stream",
          "name": "stdout",
          "text": [
            "torch.Size([1, 512])\n"
          ]
        }
      ]
    },
    {
      "cell_type": "code",
      "execution_count": 8,
      "id": "42278a35",
      "metadata": {
        "scrolled": false,
        "id": "42278a35",
        "colab": {
          "base_uri": "https://localhost:8080/"
        },
        "outputId": "7c4346e8-8dd2-437c-98fb-6d125878bf0c"
      },
      "outputs": [
        {
          "output_type": "stream",
          "name": "stderr",
          "text": [
            "100%|██████████| 298/298 [00:12<00:00, 23.01it/s]\n"
          ]
        },
        {
          "output_type": "stream",
          "name": "stdout",
          "text": [
            "Epoch=0 loss=0.8779\n"
          ]
        },
        {
          "output_type": "stream",
          "name": "stderr",
          "text": [
            "100%|██████████| 298/298 [00:12<00:00, 24.11it/s]\n"
          ]
        },
        {
          "output_type": "stream",
          "name": "stdout",
          "text": [
            "Epoch=1 loss=0.3818\n"
          ]
        },
        {
          "output_type": "stream",
          "name": "stderr",
          "text": [
            "100%|██████████| 298/298 [00:12<00:00, 22.96it/s]\n"
          ]
        },
        {
          "output_type": "stream",
          "name": "stdout",
          "text": [
            "Epoch=2 loss=0.2622\n"
          ]
        },
        {
          "output_type": "stream",
          "name": "stderr",
          "text": [
            "100%|██████████| 298/298 [00:12<00:00, 23.87it/s]\n"
          ]
        },
        {
          "output_type": "stream",
          "name": "stdout",
          "text": [
            "Epoch=3 loss=0.2014\n"
          ]
        },
        {
          "output_type": "stream",
          "name": "stderr",
          "text": [
            "100%|██████████| 298/298 [00:12<00:00, 23.63it/s]\n"
          ]
        },
        {
          "output_type": "stream",
          "name": "stdout",
          "text": [
            "Epoch=4 loss=0.1599\n"
          ]
        },
        {
          "output_type": "stream",
          "name": "stderr",
          "text": [
            "100%|██████████| 298/298 [00:12<00:00, 23.56it/s]\n"
          ]
        },
        {
          "output_type": "stream",
          "name": "stdout",
          "text": [
            "Epoch=5 loss=0.1196\n"
          ]
        },
        {
          "output_type": "stream",
          "name": "stderr",
          "text": [
            "100%|██████████| 298/298 [00:12<00:00, 24.09it/s]\n"
          ]
        },
        {
          "output_type": "stream",
          "name": "stdout",
          "text": [
            "Epoch=6 loss=0.1053\n"
          ]
        },
        {
          "output_type": "stream",
          "name": "stderr",
          "text": [
            "100%|██████████| 298/298 [00:12<00:00, 23.95it/s]\n"
          ]
        },
        {
          "output_type": "stream",
          "name": "stdout",
          "text": [
            "Epoch=7 loss=0.07529\n"
          ]
        },
        {
          "output_type": "stream",
          "name": "stderr",
          "text": [
            "100%|██████████| 298/298 [00:12<00:00, 24.04it/s]\n"
          ]
        },
        {
          "output_type": "stream",
          "name": "stdout",
          "text": [
            "Epoch=8 loss=0.07876\n"
          ]
        },
        {
          "output_type": "stream",
          "name": "stderr",
          "text": [
            "100%|██████████| 298/298 [00:12<00:00, 24.12it/s]\n"
          ]
        },
        {
          "output_type": "stream",
          "name": "stdout",
          "text": [
            "Epoch=9 loss=0.07957\n"
          ]
        }
      ],
      "source": [
        "test_accuracy, train_accuracy, loss_hist = train(model, criterion, optimizer, epochs=EPOCHS)"
      ]
    },
    {
      "cell_type": "code",
      "execution_count": 9,
      "id": "3582050b",
      "metadata": {
        "id": "3582050b",
        "colab": {
          "base_uri": "https://localhost:8080/"
        },
        "outputId": "17e9b3ea-3f31-49ea-d7ce-82daf1d661ca"
      },
      "outputs": [
        {
          "output_type": "execute_result",
          "data": {
            "text/plain": [
              "0.9130434782608695"
            ]
          },
          "metadata": {},
          "execution_count": 9
        }
      ],
      "source": [
        "validate(model, test_loader)"
      ]
    },
    {
      "cell_type": "code",
      "execution_count": 10,
      "id": "c9c8170e",
      "metadata": {
        "id": "c9c8170e",
        "colab": {
          "base_uri": "https://localhost:8080/"
        },
        "outputId": "5d9c9424-5981-4f07-e4ea-2e2a54957465"
      },
      "outputs": [
        {
          "output_type": "stream",
          "name": "stdout",
          "text": [
            "2-SMD                acc: 255/265\n",
            "SMD0402_CL           acc: 179/182\n",
            "SMD0402_R            acc: 106/109\n",
            "SMD0603_CL           acc: 68/75\n",
            "SMD0603_D            acc: 4/7\n",
            "SMD0603_R            acc: 52/57\n",
            "SMD0805_CL           acc: 44/58\n",
            "SMD0805_R            acc: 95/98\n",
            "SMD1206_C            acc: 12/14\n",
            "SMD1206_R            acc: 15/19\n",
            "SMD1210_C            acc: 7/8\n",
            "2-SMD                acc: 3/3\n",
            "SMA                  acc: 4/6\n",
            "SMB                  acc: 3/7\n",
            "SOD110               acc: 2/4\n",
            "SOD323F              acc: 3/5\n",
            "SOD523               acc: 3/4\n",
            "SOT23-5              acc: 9/11\n",
            "SOT23-6              acc: 8/11\n",
            "SOT143               acc: 2/2\n",
            "SOT323               acc: 28/38\n",
            "SOT323-5             acc: 9/10\n",
            "SOT343               acc: 0/2\n",
            "SOT363               acc: 2/4\n",
            "SOT523               acc: 6/7\n",
            "SOT723               acc: 5/5\n",
            "DIP-%d               acc: 7/7\n",
            "LQFP0.4-%d           acc: 5/6\n",
            "LQFP0.5-%d&TFSOP-%d  acc: 9/12\n",
            "LQFP0.8-%d           acc: 6/6\n",
            "LQFP0.65-%d&SSOP-%d  acc: 19/26\n",
            "SOIC-%d              acc: 22/22\n"
          ]
        }
      ],
      "source": [
        "validate_by_class(model, dataset_test)"
      ]
    },
    {
      "cell_type": "code",
      "execution_count": 11,
      "id": "9c0ce646",
      "metadata": {
        "id": "9c0ce646",
        "colab": {
          "base_uri": "https://localhost:8080/",
          "height": 549
        },
        "outputId": "81f9158e-71cb-4680-aee2-d19df1469da6"
      },
      "outputs": [
        {
          "output_type": "display_data",
          "data": {
            "text/plain": [
              "<Figure size 432x288 with 1 Axes>"
            ],
            "image/png": "[encoded data removed]"
          },
          "metadata": {
            "needs_background": "light"
          }
        },
        {
          "output_type": "display_data",
          "data": {
            "text/plain": [
              "<Figure size 432x288 with 1 Axes>"
            ],
            "image/png": "[encoded data removed]"
          },
          "metadata": {
            "needs_background": "light"
          }
        }
      ],
      "source": [
        "plt.plot(range(EPOCHS), train_accuracy, label='train accuracy')\n",
        "plt.plot(range(EPOCHS), test_accuracy, label='test accuracy')\n",
        "plt.xlabel(\"Epochs\")\n",
        "plt.ylabel(\"Loss\")\n",
        "plt.ylim([0, 1])\n",
        "plt.legend()\n",
        "plt.show()\n",
        "\n",
        "plt.plot(range(EPOCHS), loss_hist, label='train loss')\n",
        "plt.xlabel(\"Epochs\")\n",
        "plt.ylabel(\"Loss\")\n",
        "plt.ylim([0, 1])\n",
        "plt.legend()\n",
        "plt.show()"
      ]
    },
    {
      "cell_type": "markdown",
      "id": "5c02c1d3",
      "metadata": {
        "id": "5c02c1d3"
      },
      "source": [
        "#### Save model and try to load"
      ]
    },
    {
      "cell_type": "markdown",
      "id": "19fe1aff",
      "metadata": {
        "id": "19fe1aff"
      },
      "source": [
        "Эта сложная конструкция ниже предназначена для сохранения нейронки и файла с метаинформацией, по которой можно правильно загрузить нейронку в epdetection"
      ]
    },
    {
      "cell_type": "code",
      "source": [
        "!pip install jsonpickle\n",
        "import json\n",
        "import jsonpickle\n",
        "try:\n",
        "    from model_info.model_info import ModelInfo\n",
        "    print('ModelInfo loaded from local model_info.py')\n",
        "except:\n",
        "    !mkdir model_info\n",
        "    !wget https://raw.githubusercontent.com/EPC-MSU/epdetection/dev-1.5/detection/utilities/model_info/compatible_det_info.json -O model_info/compatible_det_info.json\n",
        "    !wget https://raw.githubusercontent.com/EPC-MSU/epdetection/dev-1.5/detection/utilities/model_info/model_info.py -O model_info/model_info.py\n",
        "    from model_info.model_info import ModelInfo"
      ],
      "metadata": {
        "colab": {
          "base_uri": "https://localhost:8080/"
        },
        "id": "4z3oDFTztqnr",
        "outputId": "942ab99b-1af9-4679-97b2-3cacfe9d10f3"
      },
      "id": "4z3oDFTztqnr",
      "execution_count": 14,
      "outputs": [
        {
          "output_type": "stream",
          "name": "stdout",
          "text": [
            "Looking in indexes: https://pypi.org/simple, https://us-python.pkg.dev/colab-wheels/public/simple/\n",
            "Requirement already satisfied: jsonpickle in /usr/local/lib/python3.7/dist-packages (2.2.0)\n",
            "Requirement already satisfied: importlib-metadata in /usr/local/lib/python3.7/dist-packages (from jsonpickle) (4.12.0)\n",
            "Requirement already satisfied: zipp>=0.5 in /usr/local/lib/python3.7/dist-packages (from importlib-metadata->jsonpickle) (3.8.1)\n",
            "Requirement already satisfied: typing-extensions>=3.6.4 in /usr/local/lib/python3.7/dist-packages (from importlib-metadata->jsonpickle) (4.1.1)\n",
            "ModelInfo loaded from local model_info.py\n"
          ]
        }
      ]
    },
    {
      "cell_type": "code",
      "execution_count": 15,
      "id": "7a72d9d9",
      "metadata": {
        "id": "7a72d9d9",
        "colab": {
          "base_uri": "https://localhost:8080/"
        },
        "outputId": "f3b24d88-b49f-4e4c-b3d3-247b3b499ee5"
      },
      "outputs": [
        {
          "output_type": "stream",
          "name": "stdout",
          "text": [
            "Info saved in:  ./model_2022-07-29.pth.json\n"
          ]
        }
      ],
      "source": [
        "with open(\"model_info/compatible_det_info.json\") as f:\n",
        "    model_info = ModelInfo(\"Andrey Marakulin\", json.load(f))\n",
        "    model_info.compile_info()\n",
        "    model_info.save_info()\n",
        "    model_name = model_info.get_info()['modelname']\n",
        "    \n",
        "torch.save(model.state_dict(), model_name)"
      ]
    },
    {
      "cell_type": "code",
      "execution_count": 16,
      "id": "efb52760",
      "metadata": {
        "id": "efb52760",
        "colab": {
          "base_uri": "https://localhost:8080/"
        },
        "outputId": "faf6f8e9-5386-4412-afd4-86fa85d0ea17"
      },
      "outputs": [
        {
          "output_type": "stream",
          "name": "stdout",
          "text": [
            "torch.Size([1, 512])\n"
          ]
        },
        {
          "output_type": "execute_result",
          "data": {
            "text/plain": [
              "tensor([[ -2.3761,  -4.9783,  -7.4083,  -8.8340,  -4.9367,  -2.0664,  -5.1833,\n",
              "           9.0426,  -9.0857,  -2.7196, -12.6605,  -7.6325,  -8.6459, -12.8568,\n",
              "          -7.6253,  -9.1043,  -9.3834, -10.8187,  -8.5232,  -8.2161, -11.7389,\n",
              "          -9.0249,  -7.9422,  -8.0351, -10.5964, -13.4063,  -7.7492,  -8.1755,\n",
              "          -9.0000,  -9.5322,  -6.4565,  -4.0244]], grad_fn=<AddmmBackward0>)"
            ]
          },
          "metadata": {},
          "execution_count": 16
        }
      ],
      "source": [
        "# Simple test\n",
        "model_test = CNN()\n",
        "model_test.load_state_dict(torch.load(model_name))\n",
        "model_test.eval()\n",
        "model_test(dataset[8000][0].unsqueeze(dim=0))\n"
      ]
    }
  ],
  "metadata": {
    "kernelspec": {
      "display_name": "Python 3",
      "language": "python",
      "name": "python3"
    },
    "language_info": {
      "codemirror_mode": {
        "name": "ipython",
        "version": 3
      },
      "file_extension": ".py",
      "mimetype": "text/x-python",
      "name": "python",
      "nbconvert_exporter": "python",
      "pygments_lexer": "ipython3",
      "version": "3.6.8"
    },
    "colab": {
      "name": "nn_train.ipynb",
      "provenance": [],
      "machine_shape": "hm",
      "collapsed_sections": []
    },
    "accelerator": "GPU",
    "gpuClass": "standard"
  },
  "nbformat": 4,
  "nbformat_minor": 5
}