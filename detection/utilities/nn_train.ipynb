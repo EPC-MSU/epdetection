{
 "cells": [
  {
   "cell_type": "code",
   "execution_count": 22,
   "id": "24ee26c6",
   "metadata": {},
   "outputs": [
    {
     "name": "stdout",
     "output_type": "stream",
     "text": [
      "Done\n"
     ]
    }
   ],
   "source": [
    "from torch.utils.data import DataLoader\n",
    "from torch.utils.data import Dataset\n",
    "import torchvision\n",
    "from torchvision import transforms\n",
    "from torchvision.transforms import ToTensor,Resize, Grayscale, Normalize\n",
    "import matplotlib.pyplot as plt\n",
    "import zipfile\n",
    "import numpy as np\n",
    "import matplotlib.pyplot as plt\n",
    "import torch.nn as nn\n",
    "import torch.nn.functional as F\n",
    "import torch.optim as optim\n",
    "import os\n",
    "import pandas as pd\n",
    "from torch.utils.data import Dataset\n",
    "import glob\n",
    "import cv2\n",
    "import torch\n",
    "from tqdm import tqdm\n",
    "import matplotlib.pyplot as plt\n",
    "\"\"\"\n",
    "from google.colab import drive\n",
    "drive.mount('/content/gdrive')\n",
    "\n",
    "import zipfile\n",
    "import os\n",
    "zip_file = \"/content/gdrive/MyDrive/base_v2.1.zip\"\n",
    "z = zipfile.ZipFile(zip_file, 'r')\n",
    "z.extractall()\n",
    "print(os.listdir())\n",
    "\n",
    "root_dir = \"base_v2.1\"\n",
    "train_data = VisionDataset(root = os.path.join(root_dir,'train_x1'),\n",
    "                         transform= transforms)\n",
    "\"\"\"\n",
    "print(\"Done\")"
   ]
  },
  {
   "cell_type": "code",
   "execution_count": 23,
   "id": "5fe2c6cb",
   "metadata": {},
   "outputs": [],
   "source": [
    "class My_class(Dataset):\n",
    "    def __init__(self, classes_paths, transforms=None, target_transform=None):\n",
    "        #print(glob.glob(data_dir))\n",
    "        self.classes = []\n",
    "        self.images = []\n",
    "        self.transform = transforms\n",
    "        for actual_class in classes_paths:\n",
    "            if actual_class == 1:\n",
    "                print(\"\")\n",
    "            paths = classes_paths[actual_class]\n",
    "            for path in paths:\n",
    "                # print(\"Loading \" + path)\n",
    "                for top, dirs, files in os.walk(path):\n",
    "                    for i, name in enumerate(files):\n",
    "                        if not os.path.isfile(top + \"//\" + name):\n",
    "                            continue\n",
    "                        try:\n",
    "                            imag = cv2.imread(top + \"//\" + name)\n",
    "                        except Exception:\n",
    "                            continue\n",
    "                        self.images.append(imag)\n",
    "                        self.classes.append(actual_class)\n",
    "        self.images, self.classes = np.array(self.images), torch.tensor(np.array(self.classes), dtype=torch.int64)\n",
    "\n",
    "\n",
    "    def __len__(self):\n",
    "        return len(self.images)\n",
    "\n",
    "    def __getitem__(self, idx):\n",
    "        if self.transform==None:\n",
    "            return self.images[idx], self.classes[idx]\n",
    "        else:\n",
    "            return self.transform(np.array(self.images[idx]).astype(np.float32)), self.classes[idx]"
   ]
  },
  {
   "cell_type": "code",
   "execution_count": 24,
   "id": "41d13bbe",
   "metadata": {},
   "outputs": [],
   "source": [
    "class ConvBlock(nn.Module):\n",
    "    def __init__(self, in_channels, out_channels):\n",
    "        super(ConvBlock, self).__init__()\n",
    "        self.block = nn.Sequential(\n",
    "            nn.Conv2d(in_channels, out_channels, 3),\n",
    "            nn.BatchNorm2d(out_channels),\n",
    "            nn.ReLU(),\n",
    "            nn.Conv2d(out_channels, out_channels, 1),\n",
    "            nn.BatchNorm2d(out_channels),\n",
    "            nn.ReLU())\n",
    "    \n",
    "    def forward(self, x):\n",
    "        return self.block(x)\n",
    "\n",
    "\n",
    "class CNN(nn.Module):\n",
    "    def __init__(self, n_classes=31):\n",
    "        super(CNN, self).__init__()\n",
    "        self.model = nn.Sequential(\n",
    "            ConvBlock(1, 16),\n",
    "            nn.MaxPool2d(2),\n",
    "            ConvBlock(16, 32),\n",
    "            nn.MaxPool2d(2),\n",
    "            ConvBlock(32, 64),\n",
    "            ConvBlock(64, 128),\n",
    "            nn.Flatten()\n",
    "        )\n",
    "        \n",
    "        cnn_out = self.model(torch.ones(1, 1, 32, 32))\n",
    "        print(cnn_out.size())\n",
    "        \n",
    "        self.fc = nn.Sequential(\n",
    "            nn.Linear(cnn_out.size()[1], 128),\n",
    "            nn.BatchNorm1d(128),\n",
    "            nn.ReLU(),\n",
    "            nn.Linear(128, n_classes)\n",
    "        )\n",
    "\n",
    "    def forward(self, x):\n",
    "        x = self.model(x)\n",
    "        x = self.fc(x)\n",
    "        return x"
   ]
  },
  {
   "cell_type": "code",
   "execution_count": 25,
   "id": "07501b75",
   "metadata": {},
   "outputs": [],
   "source": [
    "def validate(model,testloader):\n",
    "    correct = 0\n",
    "    total = 0\n",
    "    with torch.no_grad():\n",
    "        for images, labels in test_loader:\n",
    "            outputs = model(images)\n",
    "            _, predicted = torch.max(outputs.data, 1)\n",
    "            total += labels.size(0)\n",
    "            correct += (predicted == labels).sum().item()\n",
    "    return correct / total\n",
    "\n",
    "def test(model, loss_function, epochs , tag = \"detection\"):\n",
    "    correct = 0\n",
    "    total = 0\n",
    "    loss_test = []\n",
    "    for epoch in range(epochs):\n",
    "        ep_loss = 0\n",
    "        with torch.no_grad():\n",
    "            for data in test_loader:\n",
    "                images, labels = data\n",
    "          # calculate outputs by running images through the network\n",
    "                outputs = model(images)\n",
    "                loss = loss_function(outputs, labels)\n",
    "                ep_loss += loss.item()\n",
    "          # the class with the highest energy is what we choose as prediction\n",
    "                _, predicted = torch.max(outputs.data, 1)\n",
    "                total += labels.size(0)\n",
    "                correct += (predicted == labels).sum().item()\n",
    "\n",
    "        loss_test.append(ep_loss /len(test_loader))\n",
    "        print(f\"Epoch={epoch} loss={loss_test[epoch]:.4}\")\n",
    "    print('Accuracy of the network on the 10000 test images: %d %%' % (100 * correct / total))\n",
    "    return loss_test"
   ]
  },
  {
   "cell_type": "code",
   "execution_count": 26,
   "id": "74eaa23d",
   "metadata": {},
   "outputs": [],
   "source": [
    "def train(model, loss_function, optimizer, epochs):\n",
    "    loss_hist = []\n",
    "    test_accuracy = []\n",
    "    train_accuracy = []\n",
    "    for epoch in range(epochs):\n",
    "        ep_loss = 0\n",
    "        for images, labels in  tqdm(train_loader): # get bacth\n",
    "            optimizer.zero_grad() # sets the gradients of all optimized tensors to zero.\n",
    "            outputs = model.forward(images) # call forward inside\n",
    "            loss = loss_function(outputs, labels) # calculate loss\n",
    "            loss.backward() # calculate gradients\n",
    "            optimizer.step() # performs a single optimization step (parameter update).\n",
    "            ep_loss += loss.item()\n",
    "        loss_hist.append(ep_loss /len(train_loader))\n",
    "        print(f\"Epoch={epoch} loss={loss_hist[epoch]:.4}\")\n",
    "        test_accuracy.append(validate(model, test_loader))\n",
    "        train_accuracy.append(validate(model, train_loader))\n",
    "    return test_accuracy,train_accuracy, loss_hist"
   ]
  },
  {
   "cell_type": "code",
   "execution_count": 66,
   "id": "07d67797",
   "metadata": {},
   "outputs": [
    {
     "name": "stdout",
     "output_type": "stream",
     "text": [
      "\n"
     ]
    },
    {
     "name": "stderr",
     "output_type": "stream",
     "text": [
      "c:\\python368\\lib\\site-packages\\ipykernel_launcher.py:23: VisibleDeprecationWarning: Creating an ndarray from ragged nested sequences (which is a list-or-tuple of lists-or-tuples-or ndarrays with different lengths or shapes) is deprecated. If you meant to do this, you must specify 'dtype=object' when creating the ndarray\n"
     ]
    }
   ],
   "source": [
    "    CLASSES_PATHS = {\n",
    "        0: [\"base_v2.1//train_x1//2-SMD//incorrect\",\n",
    "            \"base_v2.1//train_x1//SMA//incorrect\",\n",
    "            \"base_v2.1//train_x1//SMB//incorrect\",\n",
    "            \"base_v2.1//train_x1//SOD110//incorrect\",\n",
    "#             \"base_v2.1//train_x1//SOD323F//incorrect\",\n",
    "#             \"base_v2.1//train_x1//SOD523//incorrect\",\n",
    "#             \"base_v2.1//train_x1//SOT23-5//incorrect\",\n",
    "#             \"base_v2.1//train_x1//SOT23-6//incorrect\",\n",
    "#             \"base_v2.1//train_x1//SOT143//incorrect\",\n",
    "#             \"base_v2.1//train_x1//SOT323//incorrect\",\n",
    "#             \"base_v2.1//train_x1//SOT323-5//incorrect\",\n",
    "#             \"base_v2.1//train_x1//SOT343//incorrect\",\n",
    "#             \"base_v2.1//train_x1//SOT363//incorrect\",\n",
    "#             \"base_v2.1//train_x1//SOT523//incorrect\",\n",
    "#             \"base_v2.1//train_x1//SOT723//incorrect\",\n",
    "#             \"base_v2.1//train_x1//SMD0402_CL//incorrect\",\n",
    "#             \"base_v2.1//train_x1//SMD0402_R//incorrect\",\n",
    "#             \"base_v2.1//train_x1//SMD0603_CL//incorrect\",\n",
    "#             \"base_v2.1//train_x1//SMD0603_D//incorrect\",\n",
    "#             \"base_v2.1//train_x1//SMD0603_R//incorrect\",\n",
    "#             \"base_v2.1//train_x1//SMD0805_CL//incorrect\",\n",
    "            \"base_v2.1//train_x1//SMD0805_R//incorrect\",\n",
    "            \"base_v2.1//train_x1//SMD1206_C//incorrect\",\n",
    "            \"base_v2.1//train_x1//SMD1206_R//incorrect\",\n",
    "            \"base_v2.1//train_x1//SMD1210_C//incorrect\"],\n",
    "        1: [\"base_v2.1//train_x1//SMD0402_CL//correct\"],\n",
    "        2: [\"base_v2.1//train_x1//SMD0402_R//correct\"],\n",
    "        3: [\"base_v2.1//train_x1//SMD0603_CL//correct\"],\n",
    "        4: [\"base_v2.1//train_x1//SMD0603_D//correct\"],\n",
    "        5: [\"base_v2.1//train_x1//SMD0603_R//correct\"],\n",
    "        6: [\"base_v2.1//train_x1//SMD0805_CL//correct\"],\n",
    "        7: [\"base_v2.1//train_x1//SMD0805_R//correct\"],\n",
    "        8: [\"base_v2.1//train_x1//SMD1206_C//correct\"],\n",
    "        9: [\"base_v2.1//train_x1//SMD1206_R//correct\"],\n",
    "        10: [\"base_v2.1//train_x1//SMD1210_C//correct\"],\n",
    "        11: [\"base_v2.1//train_x1//2-SMD//correct\"],\n",
    "        12: [\"base_v2.1//train_x1//SMA//correct\"],\n",
    "        13: [\"base_v2.1//train_x1//SMB//correct\"],\n",
    "        14: [\"base_v2.1//train_x1//SOD110//correct\"],\n",
    "        15: [\"base_v2.1//train_x1//SOD323F//correct\"],\n",
    "        16: [\"base_v2.1//train_x1//SOD523//correct\"],\n",
    "        17: [\"base_v2.1//train_x1//SOT23-5//correct\"],\n",
    "        18: [\"base_v2.1//train_x1//SOT23-6//correct\"],\n",
    "        19: [\"base_v2.1//train_x1//SOT143//correct\"],\n",
    "        20: [\"base_v2.1//train_x1//SOT323//correct\"],\n",
    "        21: [\"base_v2.1//train_x1//SOT323-5//correct\"],\n",
    "        22: [\"base_v2.1//train_x1//SOT343//correct\"],\n",
    "        23: [\"base_v2.1//train_x1//SOT363//correct\"],\n",
    "        24: [\"base_v2.1//train_x1//SOT523//correct\"],\n",
    "        25: [\"base_v2.1//train_x1//SOT723//correct\"],\n",
    "        26: [\"base_v2.1//train_x1//DIP-%d//correct\"],\n",
    "        27: [\"base_v2.1//train_x1//LQFP0.4-%d//correct\"],\n",
    "        28: [\"base_v2.1//train_x1//LQFP0.5-%d&TFSOP-%d//correct\"],\n",
    "        29: [\"base_v2.1//train_x1//LQFP0.8-%d//correct\"],\n",
    "        30: [\"base_v2.1//train_x1//LQFP0.65-%d&SSOP-%d//correct\"],\n",
    "        31: [\"base_v2.1//train_x1//SOIC-%d//correct\"]\n",
    "    }\n",
    "transforms = torchvision.transforms.Compose([ToTensor(),\n",
    "                                             Grayscale(1),\n",
    "                                             Resize([32, 32]),\n",
    "                                             Normalize(mean=0, std=1)])\n",
    "\n",
    "dataset = My_class(CLASSES_PATHS, transforms)"
   ]
  },
  {
   "cell_type": "code",
   "execution_count": 67,
   "id": "b5455182",
   "metadata": {},
   "outputs": [
    {
     "data": {
      "text/plain": [
       "11119"
      ]
     },
     "execution_count": 67,
     "metadata": {},
     "output_type": "execute_result"
    }
   ],
   "source": [
    "len(dataset)"
   ]
  },
  {
   "cell_type": "code",
   "execution_count": 68,
   "id": "21b0bc63",
   "metadata": {},
   "outputs": [
    {
     "data": {
      "image/png": "[encoded data removed]",
      "text/plain": [
       "<Figure size 432x288 with 1 Axes>"
      ]
     },
     "metadata": {
      "needs_background": "light"
     },
     "output_type": "display_data"
    }
   ],
   "source": [
    "img, lbl = dataset[8160]\n",
    "plt.imshow(img[0], cmap='gray')\n",
    "plt.show()"
   ]
  },
  {
   "cell_type": "code",
   "execution_count": 69,
   "id": "33d70349",
   "metadata": {},
   "outputs": [],
   "source": [
    "param = 0.9\n",
    "dataset_train, dataset_test = torch.utils.data.random_split(dataset, [int(len(dataset) * param),\n",
    "                                                                      len(dataset) - int(len(dataset) * param)])\n",
    "train_loader = DataLoader(dataset_train, batch_size=32, shuffle=True)\n",
    "test_loader = DataLoader(dataset_test, batch_size=32, shuffle=False)"
   ]
  },
  {
   "cell_type": "code",
   "execution_count": 70,
   "id": "c94a574e",
   "metadata": {},
   "outputs": [
    {
     "name": "stdout",
     "output_type": "stream",
     "text": [
      "Feature batch shape: torch.Size([32, 1, 32, 32])\n",
      "Labels batch shape: torch.Size([32])\n"
     ]
    }
   ],
   "source": [
    "train_features, train_labels = next(iter(train_loader))\n",
    "print(f\"Feature batch shape: {train_features.size()}\")\n",
    "print(f\"Labels batch shape: {train_labels.size()}\")"
   ]
  },
  {
   "cell_type": "code",
   "execution_count": 71,
   "id": "124eb3d9",
   "metadata": {},
   "outputs": [
    {
     "name": "stdout",
     "output_type": "stream",
     "text": [
      "Using device: cuda\n"
     ]
    }
   ],
   "source": [
    "device = torch.device('cuda' if torch.cuda.is_available() else 'cpu')\n",
    "print('Using device:', device)"
   ]
  },
  {
   "cell_type": "code",
   "execution_count": 72,
   "id": "42278a35",
   "metadata": {
    "scrolled": true
   },
   "outputs": [
    {
     "name": "stdout",
     "output_type": "stream",
     "text": [
      "torch.Size([1, 512])\n"
     ]
    },
    {
     "name": "stderr",
     "output_type": "stream",
     "text": [
      "100%|████████████████████████████████████████████████████████████████████████████████| 313/313 [00:08<00:00, 38.33it/s]\n"
     ]
    },
    {
     "name": "stdout",
     "output_type": "stream",
     "text": [
      "Epoch=0 loss=0.8394\n"
     ]
    },
    {
     "name": "stderr",
     "output_type": "stream",
     "text": [
      "100%|████████████████████████████████████████████████████████████████████████████████| 313/313 [00:08<00:00, 37.38it/s]\n"
     ]
    },
    {
     "name": "stdout",
     "output_type": "stream",
     "text": [
      "Epoch=1 loss=0.3689\n"
     ]
    },
    {
     "name": "stderr",
     "output_type": "stream",
     "text": [
      "100%|████████████████████████████████████████████████████████████████████████████████| 313/313 [00:08<00:00, 37.67it/s]\n"
     ]
    },
    {
     "name": "stdout",
     "output_type": "stream",
     "text": [
      "Epoch=2 loss=0.2657\n"
     ]
    },
    {
     "name": "stderr",
     "output_type": "stream",
     "text": [
      "100%|████████████████████████████████████████████████████████████████████████████████| 313/313 [00:08<00:00, 35.05it/s]\n"
     ]
    },
    {
     "name": "stdout",
     "output_type": "stream",
     "text": [
      "Epoch=3 loss=0.1851\n"
     ]
    },
    {
     "name": "stderr",
     "output_type": "stream",
     "text": [
      "100%|████████████████████████████████████████████████████████████████████████████████| 313/313 [00:09<00:00, 33.39it/s]\n"
     ]
    },
    {
     "name": "stdout",
     "output_type": "stream",
     "text": [
      "Epoch=4 loss=0.1551\n"
     ]
    },
    {
     "name": "stderr",
     "output_type": "stream",
     "text": [
      "100%|████████████████████████████████████████████████████████████████████████████████| 313/313 [00:08<00:00, 35.70it/s]\n"
     ]
    },
    {
     "name": "stdout",
     "output_type": "stream",
     "text": [
      "Epoch=5 loss=0.1221\n"
     ]
    },
    {
     "name": "stderr",
     "output_type": "stream",
     "text": [
      "100%|████████████████████████████████████████████████████████████████████████████████| 313/313 [00:08<00:00, 35.17it/s]\n"
     ]
    },
    {
     "name": "stdout",
     "output_type": "stream",
     "text": [
      "Epoch=6 loss=0.09927\n"
     ]
    },
    {
     "name": "stderr",
     "output_type": "stream",
     "text": [
      "100%|████████████████████████████████████████████████████████████████████████████████| 313/313 [00:08<00:00, 35.75it/s]\n"
     ]
    },
    {
     "name": "stdout",
     "output_type": "stream",
     "text": [
      "Epoch=7 loss=0.07208\n"
     ]
    },
    {
     "name": "stderr",
     "output_type": "stream",
     "text": [
      "100%|████████████████████████████████████████████████████████████████████████████████| 313/313 [00:08<00:00, 35.30it/s]\n"
     ]
    },
    {
     "name": "stdout",
     "output_type": "stream",
     "text": [
      "Epoch=8 loss=0.08459\n"
     ]
    },
    {
     "name": "stderr",
     "output_type": "stream",
     "text": [
      "100%|████████████████████████████████████████████████████████████████████████████████| 313/313 [00:08<00:00, 35.22it/s]\n"
     ]
    },
    {
     "name": "stdout",
     "output_type": "stream",
     "text": [
      "Epoch=9 loss=0.07218\n"
     ]
    },
    {
     "name": "stderr",
     "output_type": "stream",
     "text": [
      "100%|████████████████████████████████████████████████████████████████████████████████| 313/313 [00:08<00:00, 35.63it/s]\n"
     ]
    },
    {
     "name": "stdout",
     "output_type": "stream",
     "text": [
      "Epoch=10 loss=0.05056\n"
     ]
    },
    {
     "name": "stderr",
     "output_type": "stream",
     "text": [
      " 46%|█████████████████████████████████████                                           | 145/313 [00:04<00:04, 35.27it/s]\n"
     ]
    },
    {
     "ename": "KeyboardInterrupt",
     "evalue": "",
     "output_type": "error",
     "traceback": [
      "\u001b[1;31m---------------------------------------------------------------------------\u001b[0m",
      "\u001b[1;31mKeyboardInterrupt\u001b[0m                         Traceback (most recent call last)",
      "\u001b[1;32m<ipython-input-72-bd4f087b23e5>\u001b[0m in \u001b[0;36m<module>\u001b[1;34m\u001b[0m\n\u001b[0;32m      2\u001b[0m \u001b[0moptimizer\u001b[0m \u001b[1;33m=\u001b[0m \u001b[0moptim\u001b[0m\u001b[1;33m.\u001b[0m\u001b[0mAdam\u001b[0m\u001b[1;33m(\u001b[0m\u001b[0mmodel\u001b[0m\u001b[1;33m.\u001b[0m\u001b[0mparameters\u001b[0m\u001b[1;33m(\u001b[0m\u001b[1;33m)\u001b[0m\u001b[1;33m)\u001b[0m\u001b[1;33m\u001b[0m\u001b[1;33m\u001b[0m\u001b[0m\n\u001b[0;32m      3\u001b[0m \u001b[0mcriterion\u001b[0m \u001b[1;33m=\u001b[0m \u001b[0mnn\u001b[0m\u001b[1;33m.\u001b[0m\u001b[0mCrossEntropyLoss\u001b[0m\u001b[1;33m(\u001b[0m\u001b[1;33m)\u001b[0m\u001b[1;33m.\u001b[0m\u001b[0mcuda\u001b[0m\u001b[1;33m(\u001b[0m\u001b[1;33m)\u001b[0m\u001b[1;33m\u001b[0m\u001b[1;33m\u001b[0m\u001b[0m\n\u001b[1;32m----> 4\u001b[1;33m \u001b[0mtest_accuracy\u001b[0m\u001b[1;33m,\u001b[0m \u001b[0mtrain_accuracy\u001b[0m\u001b[1;33m,\u001b[0m \u001b[0mloss_hist\u001b[0m \u001b[1;33m=\u001b[0m \u001b[0mtrain\u001b[0m\u001b[1;33m(\u001b[0m\u001b[0mmodel\u001b[0m\u001b[1;33m,\u001b[0m \u001b[0mcriterion\u001b[0m\u001b[1;33m,\u001b[0m \u001b[0moptimizer\u001b[0m\u001b[1;33m,\u001b[0m \u001b[0mepochs\u001b[0m\u001b[1;33m=\u001b[0m\u001b[1;36m30\u001b[0m\u001b[1;33m)\u001b[0m\u001b[1;33m\u001b[0m\u001b[1;33m\u001b[0m\u001b[0m\n\u001b[0m",
      "\u001b[1;32m<ipython-input-26-2be3222d1f33>\u001b[0m in \u001b[0;36mtrain\u001b[1;34m(model, loss_function, optimizer, epochs)\u001b[0m\n\u001b[0;32m      9\u001b[0m             \u001b[0moutputs\u001b[0m \u001b[1;33m=\u001b[0m \u001b[0mmodel\u001b[0m\u001b[1;33m.\u001b[0m\u001b[0mforward\u001b[0m\u001b[1;33m(\u001b[0m\u001b[0mimages\u001b[0m\u001b[1;33m)\u001b[0m \u001b[1;31m# call forward inside\u001b[0m\u001b[1;33m\u001b[0m\u001b[1;33m\u001b[0m\u001b[0m\n\u001b[0;32m     10\u001b[0m             \u001b[0mloss\u001b[0m \u001b[1;33m=\u001b[0m \u001b[0mloss_function\u001b[0m\u001b[1;33m(\u001b[0m\u001b[0moutputs\u001b[0m\u001b[1;33m,\u001b[0m \u001b[0mlabels\u001b[0m\u001b[1;33m)\u001b[0m \u001b[1;31m# calculate loss\u001b[0m\u001b[1;33m\u001b[0m\u001b[1;33m\u001b[0m\u001b[0m\n\u001b[1;32m---> 11\u001b[1;33m             \u001b[0mloss\u001b[0m\u001b[1;33m.\u001b[0m\u001b[0mbackward\u001b[0m\u001b[1;33m(\u001b[0m\u001b[1;33m)\u001b[0m \u001b[1;31m# calculate gradients\u001b[0m\u001b[1;33m\u001b[0m\u001b[1;33m\u001b[0m\u001b[0m\n\u001b[0m\u001b[0;32m     12\u001b[0m             \u001b[0moptimizer\u001b[0m\u001b[1;33m.\u001b[0m\u001b[0mstep\u001b[0m\u001b[1;33m(\u001b[0m\u001b[1;33m)\u001b[0m \u001b[1;31m# performs a single optimization step (parameter update).\u001b[0m\u001b[1;33m\u001b[0m\u001b[1;33m\u001b[0m\u001b[0m\n\u001b[0;32m     13\u001b[0m             \u001b[0mep_loss\u001b[0m \u001b[1;33m+=\u001b[0m \u001b[0mloss\u001b[0m\u001b[1;33m.\u001b[0m\u001b[0mitem\u001b[0m\u001b[1;33m(\u001b[0m\u001b[1;33m)\u001b[0m\u001b[1;33m\u001b[0m\u001b[1;33m\u001b[0m\u001b[0m\n",
      "\u001b[1;32mc:\\python368\\lib\\site-packages\\torch\\_tensor.py\u001b[0m in \u001b[0;36mbackward\u001b[1;34m(self, gradient, retain_graph, create_graph, inputs)\u001b[0m\n\u001b[0;32m    305\u001b[0m                 \u001b[0mcreate_graph\u001b[0m\u001b[1;33m=\u001b[0m\u001b[0mcreate_graph\u001b[0m\u001b[1;33m,\u001b[0m\u001b[1;33m\u001b[0m\u001b[1;33m\u001b[0m\u001b[0m\n\u001b[0;32m    306\u001b[0m                 inputs=inputs)\n\u001b[1;32m--> 307\u001b[1;33m         \u001b[0mtorch\u001b[0m\u001b[1;33m.\u001b[0m\u001b[0mautograd\u001b[0m\u001b[1;33m.\u001b[0m\u001b[0mbackward\u001b[0m\u001b[1;33m(\u001b[0m\u001b[0mself\u001b[0m\u001b[1;33m,\u001b[0m \u001b[0mgradient\u001b[0m\u001b[1;33m,\u001b[0m \u001b[0mretain_graph\u001b[0m\u001b[1;33m,\u001b[0m \u001b[0mcreate_graph\u001b[0m\u001b[1;33m,\u001b[0m \u001b[0minputs\u001b[0m\u001b[1;33m=\u001b[0m\u001b[0minputs\u001b[0m\u001b[1;33m)\u001b[0m\u001b[1;33m\u001b[0m\u001b[1;33m\u001b[0m\u001b[0m\n\u001b[0m\u001b[0;32m    308\u001b[0m \u001b[1;33m\u001b[0m\u001b[0m\n\u001b[0;32m    309\u001b[0m     \u001b[1;32mdef\u001b[0m \u001b[0mregister_hook\u001b[0m\u001b[1;33m(\u001b[0m\u001b[0mself\u001b[0m\u001b[1;33m,\u001b[0m \u001b[0mhook\u001b[0m\u001b[1;33m)\u001b[0m\u001b[1;33m:\u001b[0m\u001b[1;33m\u001b[0m\u001b[1;33m\u001b[0m\u001b[0m\n",
      "\u001b[1;32mc:\\python368\\lib\\site-packages\\torch\\autograd\\__init__.py\u001b[0m in \u001b[0;36mbackward\u001b[1;34m(tensors, grad_tensors, retain_graph, create_graph, grad_variables, inputs)\u001b[0m\n\u001b[0;32m    154\u001b[0m     Variable._execution_engine.run_backward(\n\u001b[0;32m    155\u001b[0m         \u001b[0mtensors\u001b[0m\u001b[1;33m,\u001b[0m \u001b[0mgrad_tensors_\u001b[0m\u001b[1;33m,\u001b[0m \u001b[0mretain_graph\u001b[0m\u001b[1;33m,\u001b[0m \u001b[0mcreate_graph\u001b[0m\u001b[1;33m,\u001b[0m \u001b[0minputs\u001b[0m\u001b[1;33m,\u001b[0m\u001b[1;33m\u001b[0m\u001b[1;33m\u001b[0m\u001b[0m\n\u001b[1;32m--> 156\u001b[1;33m         allow_unreachable=True, accumulate_grad=True)  # allow_unreachable flag\n\u001b[0m\u001b[0;32m    157\u001b[0m \u001b[1;33m\u001b[0m\u001b[0m\n\u001b[0;32m    158\u001b[0m \u001b[1;33m\u001b[0m\u001b[0m\n",
      "\u001b[1;31mKeyboardInterrupt\u001b[0m: "
     ]
    }
   ],
   "source": [
    "model = CNN(n_classes=32)  # Create model instance\n",
    "optimizer = optim.Adam(model.parameters())\n",
    "criterion = nn.CrossEntropyLoss().cuda()\n",
    "test_accuracy, train_accuracy, loss_hist = train(model, criterion, optimizer, epochs=30)"
   ]
  },
  {
   "cell_type": "code",
   "execution_count": 73,
   "id": "3582050b",
   "metadata": {},
   "outputs": [
    {
     "data": {
      "text/plain": [
       "0.9154676258992805"
      ]
     },
     "execution_count": 73,
     "metadata": {},
     "output_type": "execute_result"
    }
   ],
   "source": [
    "validate(model, test_loader)"
   ]
  },
  {
   "cell_type": "code",
   "execution_count": 74,
   "id": "6f073af0",
   "metadata": {},
   "outputs": [],
   "source": [
    "acc_by_class = {}\n",
    "if 1 not in acc_by_class:\n",
    "    acc_by_class[1] = 'fdf'"
   ]
  },
  {
   "cell_type": "code",
   "execution_count": 75,
   "id": "f9917d3b",
   "metadata": {},
   "outputs": [],
   "source": [
    "def validate_by_class(model, dataset_test):\n",
    "    acc_by_class = {}\n",
    "    \n",
    "    with torch.no_grad():\n",
    "        model.eval()\n",
    "        for image, label in dataset_test:\n",
    "            outputs = model(image.unsqueeze(0))\n",
    "            _, predicted = torch.max(outputs.data, 1)\n",
    "            correct = (predicted.squeeze() == label).sum().item()\n",
    "            \n",
    "            if int(label) not in acc_by_class:\n",
    "                acc_by_class[int(label)] = (correct, 1)\n",
    "            if int(label) in acc_by_class:\n",
    "                correct_prev, total_prev = acc_by_class[int(label)]\n",
    "                acc_by_class[int(label)] = (correct_prev + correct, total_prev + 1)\n",
    "    return acc_by_class"
   ]
  },
  {
   "cell_type": "code",
   "execution_count": 76,
   "id": "c9c8170e",
   "metadata": {},
   "outputs": [],
   "source": [
    "# d = validate_by_class(model, dataset_test)\n",
    "# for key in CLASSES_PATHS.keys():\n",
    "#     try:\n",
    "#         print(CLASSES_PATHS[key], d[key])\n",
    "#     except:\n",
    "#         print(CLASSES_PATHS[key], 'NOT FOUND')"
   ]
  },
  {
   "cell_type": "code",
   "execution_count": 77,
   "id": "9c0ce646",
   "metadata": {},
   "outputs": [
    {
     "data": {
      "image/png": "[encoded data removed]",
      "text/plain": [
       "<Figure size 432x288 with 1 Axes>"
      ]
     },
     "metadata": {
      "needs_background": "light"
     },
     "output_type": "display_data"
    },
    {
     "data": {
      "image/png": "[encoded data removed]",
      "text/plain": [
       "<Figure size 432x288 with 1 Axes>"
      ]
     },
     "metadata": {
      "needs_background": "light"
     },
     "output_type": "display_data"
    }
   ],
   "source": [
    "epochs = 30\n",
    "\n",
    "plt.plot(range(epochs), train_accuracy, label='train accuracy')\n",
    "plt.plot(range(epochs), test_accuracy, label='test accuracy')\n",
    "plt.xlabel(\"Epochs\")\n",
    "plt.ylabel(\"Loss\")\n",
    "plt.ylim([0, 1])\n",
    "plt.legend()\n",
    "plt.show()\n",
    "\n",
    "epochs = 30\n",
    "plt.plot(range(epochs), loss_hist, label='train loss')\n",
    "plt.xlabel(\"Epochs\")\n",
    "plt.ylabel(\"Loss\")\n",
    "plt.ylim([0, 1])\n",
    "plt.legend()\n",
    "plt.show()"
   ]
  },
  {
   "cell_type": "markdown",
   "id": "604abeb2",
   "metadata": {},
   "source": [
    "#### Save model and try to load"
   ]
  },
  {
   "cell_type": "code",
   "execution_count": 78,
   "id": "aa5d19a6",
   "metadata": {},
   "outputs": [],
   "source": [
    "torch.save(model.state_dict(), 'model_2022-07-26.pth')"
   ]
  },
  {
   "cell_type": "code",
   "execution_count": 79,
   "id": "17a13e0e",
   "metadata": {},
   "outputs": [
    {
     "name": "stdout",
     "output_type": "stream",
     "text": [
      "torch.Size([1, 512])\n"
     ]
    },
    {
     "data": {
      "text/plain": [
       "tensor([[  7.1572,  -1.3994,  -2.2321,  -2.4711,  -3.1313,  -3.6469,  -3.2780,\n",
       "          -8.1932,  -8.8011,  -8.0837,  -9.8484,  -5.2395,  -4.6159,  -7.7207,\n",
       "          -8.0539,  -7.8310,  -7.5618,  -7.3194,  -6.2838,  -9.3516,  -8.8206,\n",
       "         -10.0242,  -7.4580,  -7.5322,  -7.4573,  -7.4838,  -6.1267,  -6.3880,\n",
       "          -2.5931,  -4.0722,  -6.2937,  -4.3818]], grad_fn=<AddmmBackward0>)"
      ]
     },
     "execution_count": 79,
     "metadata": {},
     "output_type": "execute_result"
    }
   ],
   "source": [
    "# Simple test\n",
    "model_eval = CNN(n_classes=32)\n",
    "model_eval.load_state_dict(torch.load('model_2022-07-26.pth'))\n",
    "model_eval.eval()\n",
    "model_eval(torch.rand((1, 1, 32, 32)))"
   ]
  },
  {
   "cell_type": "code",
   "execution_count": 45,
   "id": "4fd40d28",
   "metadata": {},
   "outputs": [],
   "source": [
    "from model_info.model_info import ModelInfo\n",
    "\n",
    "mi = ModelInfo()\n",
    "mi.title = \"Neural network model description format for P10\"\n",
    "mi.description = \"This schema is computer-readable file for understand how to: prepare data,\" \\\n",
    "                   \" load P10 elements classes and use threshold for PyTorch model\"\n",
    "mi.author = \"Andrey Marakulin\"\n",
    "mi.start_mode = \"cut32_bw\"\n",
    "mi.end_mode = \"end_normal\"\n",
    "mi.model_classes = [21, 22, 23, 26, 24, 27, 29, 32, 31, 30, 17, 15, 16, 18, 19, 20, 8,\n",
    "                      10, 13, 5, 9, 12, 11, 7, 14, 33, 34, 35, 36, 37, 38]"
   ]
  },
  {
   "cell_type": "code",
   "execution_count": 46,
   "id": "3d72e11b",
   "metadata": {},
   "outputs": [
    {
     "ename": "FileNotFoundError",
     "evalue": "compatible_det_info not found. How to create it see in create_compatible_det_info function.",
     "output_type": "error",
     "traceback": [
      "\u001b[1;31m---------------------------------------------------------------------------\u001b[0m",
      "\u001b[1;31mFileNotFoundError\u001b[0m                         Traceback (most recent call last)",
      "\u001b[1;32mC:\\dev\\EP-software\\epdetection\\detection\\utilities\\model_info\\model_info.py\u001b[0m in \u001b[0;36mcompile_info\u001b[1;34m(self)\u001b[0m\n\u001b[0;32m    135\u001b[0m         \u001b[1;32mtry\u001b[0m\u001b[1;33m:\u001b[0m\u001b[1;33m\u001b[0m\u001b[1;33m\u001b[0m\u001b[0m\n\u001b[1;32m--> 136\u001b[1;33m             \u001b[0mprint\u001b[0m\u001b[1;33m(\u001b[0m\u001b[0mos\u001b[0m\u001b[1;33m.\u001b[0m\u001b[0mgetcwd\u001b[0m\u001b[1;33m(\u001b[0m\u001b[1;33m)\u001b[0m\u001b[1;33m)\u001b[0m\u001b[1;33m\u001b[0m\u001b[1;33m\u001b[0m\u001b[0m\n\u001b[0m\u001b[0;32m    137\u001b[0m             \u001b[1;32mwith\u001b[0m \u001b[0mopen\u001b[0m\u001b[1;33m(\u001b[0m\u001b[0mos\u001b[0m\u001b[1;33m.\u001b[0m\u001b[0mpath\u001b[0m\u001b[1;33m.\u001b[0m\u001b[0mjoin\u001b[0m\u001b[1;33m(\u001b[0m\u001b[0m__file__\u001b[0m\u001b[1;33m,\u001b[0m \u001b[1;34m\"compatible_det_info.json\"\u001b[0m\u001b[1;33m)\u001b[0m\u001b[1;33m)\u001b[0m \u001b[1;32mas\u001b[0m \u001b[0mf\u001b[0m\u001b[1;33m:\u001b[0m\u001b[1;33m\u001b[0m\u001b[1;33m\u001b[0m\u001b[0m\n",
      "\u001b[1;31mFileNotFoundError\u001b[0m: [Errno 2] No such file or directory: 'compatible_det_info.json'",
      "\nDuring handling of the above exception, another exception occurred:\n",
      "\u001b[1;31mFileNotFoundError\u001b[0m                         Traceback (most recent call last)",
      "\u001b[1;32m<ipython-input-46-7ded4df8392e>\u001b[0m in \u001b[0;36m<module>\u001b[1;34m\u001b[0m\n\u001b[1;32m----> 1\u001b[1;33m \u001b[0mmi\u001b[0m\u001b[1;33m.\u001b[0m\u001b[0mcompile_info\u001b[0m\u001b[1;33m(\u001b[0m\u001b[1;33m)\u001b[0m\u001b[1;33m\u001b[0m\u001b[1;33m\u001b[0m\u001b[0m\n\u001b[0m\u001b[0;32m      2\u001b[0m \u001b[0mscheme\u001b[0m \u001b[1;33m=\u001b[0m \u001b[0mmi\u001b[0m\u001b[1;33m.\u001b[0m\u001b[0mget_info\u001b[0m\u001b[1;33m(\u001b[0m\u001b[1;33m)\u001b[0m\u001b[1;33m\u001b[0m\u001b[1;33m\u001b[0m\u001b[0m\n\u001b[0;32m      3\u001b[0m \u001b[0mmodel_info\u001b[0m\u001b[1;33m.\u001b[0m\u001b[0msave_info\u001b[0m\u001b[1;33m(\u001b[0m\u001b[1;33m)\u001b[0m\u001b[1;33m\u001b[0m\u001b[1;33m\u001b[0m\u001b[0m\n",
      "\u001b[1;32mC:\\dev\\EP-software\\epdetection\\detection\\utilities\\model_info\\model_info.py\u001b[0m in \u001b[0;36mcompile_info\u001b[1;34m(self)\u001b[0m\n\u001b[0;32m    137\u001b[0m             \u001b[1;32mwith\u001b[0m \u001b[0mopen\u001b[0m\u001b[1;33m(\u001b[0m\u001b[0mos\u001b[0m\u001b[1;33m.\u001b[0m\u001b[0mpath\u001b[0m\u001b[1;33m.\u001b[0m\u001b[0mjoin\u001b[0m\u001b[1;33m(\u001b[0m\u001b[0m__file__\u001b[0m\u001b[1;33m,\u001b[0m \u001b[1;34m\"compatible_det_info.json\"\u001b[0m\u001b[1;33m)\u001b[0m\u001b[1;33m)\u001b[0m \u001b[1;32mas\u001b[0m \u001b[0mf\u001b[0m\u001b[1;33m:\u001b[0m\u001b[1;33m\u001b[0m\u001b[1;33m\u001b[0m\u001b[0m\n\u001b[0;32m    138\u001b[0m                 \u001b[0mschema\u001b[0m\u001b[1;33m[\u001b[0m\u001b[1;34m\"compatible_det_info\"\u001b[0m\u001b[1;33m]\u001b[0m \u001b[1;33m=\u001b[0m \u001b[0mjson\u001b[0m\u001b[1;33m.\u001b[0m\u001b[0mload\u001b[0m\u001b[1;33m(\u001b[0m\u001b[0mf\u001b[0m\u001b[1;33m)\u001b[0m\u001b[1;33m\u001b[0m\u001b[1;33m\u001b[0m\u001b[0m\n\u001b[1;32m--> 139\u001b[1;33m         \u001b[1;32mexcept\u001b[0m \u001b[0mFileNotFoundError\u001b[0m\u001b[1;33m:\u001b[0m\u001b[1;33m\u001b[0m\u001b[1;33m\u001b[0m\u001b[0m\n\u001b[0m\u001b[0;32m    140\u001b[0m             raise FileNotFoundError(\"compatible_det_info not found. How to create\"\n\u001b[0;32m    141\u001b[0m                                     \" it see in create_compatible_det_info function.\")\n",
      "\u001b[1;31mFileNotFoundError\u001b[0m: compatible_det_info not found. How to create it see in create_compatible_det_info function."
     ]
    }
   ],
   "source": [
    "mi.compile_info()\n",
    "scheme = mi.get_info()\n",
    "model_info.save_info()"
   ]
  },
  {
   "cell_type": "code",
   "execution_count": null,
   "id": "f55e503d",
   "metadata": {},
   "outputs": [],
   "source": []
  }
 ],
 "metadata": {
  "kernelspec": {
   "display_name": "Python 3",
   "language": "python",
   "name": "python3"
  },
  "language_info": {
   "codemirror_mode": {
    "name": "ipython",
    "version": 3
   },
   "file_extension": ".py",
   "mimetype": "text/x-python",
   "name": "python",
   "nbconvert_exporter": "python",
   "pygments_lexer": "ipython3",
   "version": "3.6.8"
  }
 },
 "nbformat": 4,
 "nbformat_minor": 5
}
